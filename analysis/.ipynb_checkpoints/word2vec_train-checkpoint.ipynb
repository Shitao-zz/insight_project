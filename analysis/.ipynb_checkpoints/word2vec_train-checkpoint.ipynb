{
 "cells": [
  {
   "cell_type": "code",
   "execution_count": 1,
   "metadata": {
    "collapsed": false
   },
   "outputs": [],
   "source": [
    "import pandas as pd\n",
    "from nltk.corpus import stopwords\n",
    "from nltk.stem import WordNetLemmatizer\n",
    "from bs4 import BeautifulSoup\n",
    "import nltk\n",
    "import re \n",
    "import pickle\n",
    "import gensim\n"
   ]
  },
  {
   "cell_type": "code",
   "execution_count": 2,
   "metadata": {
    "collapsed": true
   },
   "outputs": [],
   "source": [
    "SF = pd.read_csv('SF_jobs_new.csv')\n",
    "SF.drop('Unnamed: 0',axis=1,inplace=True)\n",
    "NYC = pd.read_csv('NYC_jobs_new.csv')\n",
    "NYC.drop('Unnamed: 0',axis=1,inplace=True)\n",
    "Seattle = pd.read_csv('Seattle_jobs_new.csv')\n",
    "Seattle.drop('Unnamed: 0',axis=1,inplace=True)"
   ]
  },
  {
   "cell_type": "code",
   "execution_count": 3,
   "metadata": {
    "collapsed": true
   },
   "outputs": [],
   "source": [
    "def line_cleaner(line): # perform tokenization, select noun, Lemmertization etc on a line text\n",
    "    rtext=[]    \n",
    "    for w, tag in nltk.pos_tag(nltk.word_tokenize(line.lower())):  # Tokenization\n",
    "        if tag in ['NN']:  # Keep only Nouns (for this special case)\n",
    "            rtext.append(w)\n",
    "    #text = re.sub(\"[^a-zA-Z+3#]\",\" \", line)\n",
    "    \n",
    "    #rtext = text.lower().split()\n",
    "    \n",
    "    wordnet_lemmatizer = WordNetLemmatizer()  # Lemmertization\n",
    "    rtext = [wordnet_lemmatizer.lemmatize(w) for w in rtext]\n",
    "            \n",
    "    stop_words = set(stopwords.words(\"english\") + ['e','g','etc','data','customer','experience','business','+','requirement','dr','ad','hoc','f','eco','ecosystem','pl','schema','nice']) # Filter out any stop words\n",
    "    rtext = [w for w in rtext if not w in stop_words]\n",
    "    \n",
    "    return rtext # return list of tokens\n",
    "\n",
    "def text_cleaner(html,Oneline=True): # return a single line of cleaned text\n",
    "\n",
    "    soup_obj = BeautifulSoup(html,\"lxml\") # Get the html from the site\n",
    "\n",
    "    for script in soup_obj([\"script\", \"style\"]):\n",
    "        script.extract() # Remove these two elements from the BS4 object\n",
    "    \n",
    "    text = soup_obj.body.get_text('\\n') # Get the text from this\n",
    "\n",
    "    lines = (line.strip() for line in text.splitlines()) # break into lines\n",
    "\n",
    "    chunks = (phrase.strip() for line in lines for phrase in line.split(\"  \")) # break multi-headlines into a line each\n",
    "    \n",
    "    def chunk_space(chunk):\n",
    "        chunk_out = chunk + ' ' # Need to fix spacing issue\n",
    "        return chunk_out  \n",
    "\n",
    "    text = ''.join(chunk_space(chunk) for chunk in chunks if chunk).encode('utf-8') # Get rid of all blank lines and ends of line\n",
    "\n",
    "    # Now clean out all of the unicode junk (this line works great!!!)\n",
    "    try:\n",
    "        text = text.decode('unicode_escape').encode('ascii', 'ignore') # Need this as some websites aren't formatted\n",
    "    except:                                                            # in a way that this works, can occasionally throw\n",
    "        return                                                         # an exception\n",
    "\n",
    "    text = re.sub(\"[^a-zA-Z+3#]\",\" \", text)  # Now get rid of any terms that aren't words (include 3 for d3.js)\n",
    "      \n",
    "    text = line_cleaner(text)\n",
    "    \n",
    "    return text"
   ]
  },
  {
   "cell_type": "code",
   "execution_count": 4,
   "metadata": {
    "collapsed": false
   },
   "outputs": [],
   "source": [
    "cleanDescription = []\n",
    "for i in range(SF.shape[0]):\n",
    "    cleanDescription.append(text_cleaner(SF.job_description[i]))\n",
    "for i in range(NYC.shape[0]):\n",
    "    cleanDescription.append(text_cleaner(NYC.job_description[i]))\n",
    "for i in range(Seattle.shape[0]):\n",
    "    cleanDescription.append(text_cleaner(Seattle.job_description[i]))"
   ]
  },
  {
   "cell_type": "code",
   "execution_count": 5,
   "metadata": {
    "collapsed": false
   },
   "outputs": [],
   "source": [
    "with open('cleaned_doc.txt','wb') as file1:\n",
    "    pickle.dump(cleanDescription,file1,protocol=2)"
   ]
  },
  {
   "cell_type": "code",
   "execution_count": 2,
   "metadata": {
    "collapsed": true
   },
   "outputs": [],
   "source": [
    "cleaneddoc = pd.read_pickle('cleaned_doc.txt')\n"
   ]
  },
  {
   "cell_type": "code",
   "execution_count": 15,
   "metadata": {
    "collapsed": false
   },
   "outputs": [],
   "source": [
    "model = gensim.models.Word2Vec(cleaneddoc, size=20, window=6, min_count=5, workers=2)\n",
    "model.save('W2Vmodel')"
   ]
  },
  {
   "cell_type": "code",
   "execution_count": 3,
   "metadata": {
    "collapsed": false
   },
   "outputs": [
    {
     "data": {
      "text/plain": [
       "-0.043460787788028053"
      ]
     },
     "execution_count": 3,
     "metadata": {},
     "output_type": "execute_result"
    }
   ],
   "source": [
    "model = gensim.models.Word2Vec.load('W2Vmodel')\n",
    "model.similarity('mapreduce','communication')"
   ]
  },
  {
   "cell_type": "code",
   "execution_count": 4,
   "metadata": {
    "collapsed": false
   },
   "outputs": [
    {
     "data": {
      "text/plain": [
       "[('c++', 0.9234117865562439),\n",
       " ('ruby', 0.9224433302879333),\n",
       " ('scala', 0.9091888070106506),\n",
       " ('language', 0.8705078363418579),\n",
       " ('programming', 0.8683212399482727),\n",
       " ('java', 0.845077633857727),\n",
       " ('perl', 0.8362725973129272),\n",
       " ('backend', 0.832685649394989),\n",
       " (u'algorithm', 0.8098684549331665),\n",
       " ('django', 0.8036363124847412)]"
      ]
     },
     "execution_count": 4,
     "metadata": {},
     "output_type": "execute_result"
    }
   ],
   "source": [
    "model.most_similar('python')"
   ]
  },
  {
   "cell_type": "code",
   "execution_count": 6,
   "metadata": {
    "collapsed": false
   },
   "outputs": [
    {
     "data": {
      "text/plain": [
       "[('spark', 0.9294838905334473),\n",
       " ('mapreduce', 0.8779422044754028),\n",
       " ('kafka', 0.8647394180297852),\n",
       " ('cloudera', 0.8630594611167908),\n",
       " ('pig', 0.8551802635192871),\n",
       " ('cassandra', 0.8516056537628174),\n",
       " ('hbase', 0.8491491079330444),\n",
       " ('nosql', 0.8358124494552612),\n",
       " ('aws', 0.8078849911689758),\n",
       " ('hdfs', 0.8070412278175354)]"
      ]
     },
     "execution_count": 6,
     "metadata": {},
     "output_type": "execute_result"
    }
   ],
   "source": [
    "model.most_similar('hadoop')"
   ]
  },
  {
   "cell_type": "code",
   "execution_count": 10,
   "metadata": {
    "collapsed": false
   },
   "outputs": [
    {
     "data": {
      "text/plain": [
       "0.1913360517297627"
      ]
     },
     "execution_count": 10,
     "metadata": {},
     "output_type": "execute_result"
    }
   ],
   "source": [
    "model.similarity('r','html')"
   ]
  },
  {
   "cell_type": "code",
   "execution_count": null,
   "metadata": {
    "collapsed": true
   },
   "outputs": [],
   "source": []
  }
 ],
 "metadata": {
  "anaconda-cloud": {},
  "kernelspec": {
   "display_name": "Python [default]",
   "language": "python",
   "name": "python2"
  },
  "language_info": {
   "codemirror_mode": {
    "name": "ipython",
    "version": 2
   },
   "file_extension": ".py",
   "mimetype": "text/x-python",
   "name": "python",
   "nbconvert_exporter": "python",
   "pygments_lexer": "ipython2",
   "version": "2.7.12"
  }
 },
 "nbformat": 4,
 "nbformat_minor": 1
}
