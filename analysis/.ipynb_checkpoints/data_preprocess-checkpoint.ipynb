{
 "cells": [
  {
   "cell_type": "code",
   "execution_count": 24,
   "metadata": {
    "collapsed": false
   },
   "outputs": [],
   "source": [
    "from bs4 import BeautifulSoup\n",
    "import re\n",
    "from nltk.corpus import stopwords\n",
    "from nltk.stem.porter import PorterStemmer\n",
    "import nltk\n",
    "from nltk.stem import WordNetLemmatizer\n",
    "import urllib2\n",
    "import pandas as pd\n",
    "\n",
    "%matplotlib inline"
   ]
  },
  {
   "cell_type": "code",
   "execution_count": 25,
   "metadata": {
    "collapsed": false
   },
   "outputs": [],
   "source": [
    "SF = pd.read_csv('SF_jobs_new.csv')"
   ]
  },
  {
   "cell_type": "code",
   "execution_count": 29,
   "metadata": {
    "collapsed": false
   },
   "outputs": [],
   "source": [
    "\n",
    "def text_cleaner(html,Oneline=True): # return a single line of cleaned text\n",
    "\n",
    "    soup_obj = BeautifulSoup(html,\"lxml\") # Get the html from the site\n",
    "\n",
    "    for script in soup_obj([\"script\", \"style\"]):\n",
    "        script.extract() # Remove these two elements from the BS4 object\n",
    "    \n",
    "    text = soup_obj.body.get_text('\\n') # Get the text from this\n",
    "\n",
    "    lines = (line.strip() for line in text.splitlines()) # break into lines\n",
    "#    lines = [line for i, line in enumerate(lines) if i>16]\n",
    "#    for line in lines:\n",
    "#        print line\n",
    "    chunks = (phrase.strip() for line in lines for phrase in line.split(\"  \")) # break multi-headlines into a line each\n",
    "    \n",
    "    def chunk_space(chunk):\n",
    "        chunk_out = chunk + ' ' # Need to fix spacing issue\n",
    "        return chunk_out  \n",
    "\n",
    "    text = ''.join(chunk_space(chunk) for chunk in chunks if chunk).encode('utf-8') # Get rid of all blank lines and ends of line\n",
    "\n",
    "    # Now clean out all of the unicode junk (this line works great!!!)\n",
    "    try:\n",
    "        text = text.decode('unicode_escape').encode('ascii', 'ignore') # Need this as some websites aren't formatted\n",
    "    except:                                                            # in a way that this works, can occasionally throw\n",
    "        return                                                         # an exception\n",
    "\n",
    "    text = re.sub(\"[^a-zA-Z+3]\",\" \", text)  # Now get rid of any terms that aren't words (include 3 for d3.js)\n",
    "                                                # Also include + for C++\n",
    "        \n",
    "    # remove the junk from the beginning and end parts of Indeed\n",
    "    try:\n",
    "        text = ((text.lower()).split('advanced search')[1]).split('save resume')[0]\n",
    "    except:\n",
    "        return text\n",
    "    \n",
    "    return text"
   ]
  },
  {
   "cell_type": "code",
   "execution_count": 28,
   "metadata": {
    "collapsed": false
   },
   "outputs": [
    {
     "data": {
      "text/plain": [
       "'<div class=\"highlight-black\" id=\"jobdescSec\">\\n<p><strong>The Opportunity:</strong></p><p>Are you passionate about mining data\\xc2\\xa0for answers\\xc2\\xa0to challenging problem, finding actionable solutions\\xc2\\xa0that\\xc2\\xa0no one else can solve.\\xc2\\xa0Do you thrive at distilling\\xc2\\xa0large quantities of customer\\xc2\\xa0data\\xc2\\xa0into a coherent story with clear, easy to follow conclusions,\\xc2\\xa0implications\\xc2\\xa0and actionable recommendations informed by knowledge of the business? If this\\xc2\\xa0sounds like you,\\xc2\\xa0please continue\\xc2\\xa0reading.\\xc2\\xa0\\xc2\\xa0</p><p>The\\xc2\\xa0Rodan\\xc2\\xa0+ Fields Business Intelligence and Analytics Department is looking for a Data Scientist with a specialty in customer analytics to join the Advanced Analytics team. Members of our team work closely with Sales, Marketing, and Customer Loyalty\\xc2\\xa0providing insights\\xc2\\xa0into the behavior of R&amp;F\\xe2\\x80\\x99s customers\\xc2\\xa0to enable the leadership and operational teams make better informed, data-driven decisions.\\xc2\\xa0The ideal candidate will bring analytical rigor and statistical methods to the challenges of understanding\\xc2\\xa0and modeling\\xc2\\xa0the behavior of R&amp;F\\xe2\\x80\\x99s consultants and customers. The insights from this role will\\xc2\\xa0be\\xc2\\xa0drivers of multiple\\xc2\\xa0strategic business\\xc2\\xa0decisions including\\xc2\\xa0sales and\\xc2\\xa0operational planning,\\xc2\\xa0customer retention, and marketing.</p><p><strong>Key Responsibilities:</strong></p><ul><li>Customer lifecycle\\xc2\\xa0analysis and modeling\\xc2\\xa0with a focus on acquisition, retention, and\\xc2\\xa0churn\\xc2\\xa0and revenue trends</li><li>Customer segmentation</li><li>Customer Lifetime Value</li><li>Marketing Optimization</li><li>Find creative solutions to business problems using advanced mathematical algorithms</li><li>Develop\\xc2\\xa0relevant metrics that enable improved decision-making across business functions</li><li>Anticipate performance questions, perform sensitivity analyses, and proactively communicate to business leadership</li><li>Perform ad-hoc analyses\\xc2\\xa0to senior management</li><li>Mentor and manage\\xc2\\xa0junior Data Scientists</li></ul><p>\\xc2\\xa0</p><p><strong>Requirements:</strong></p><ul><li>Passionate about producing high-quality analytics deliverables and communicating results to\\xc2\\xa0broad audience including department users,\\xc2\\xa0business leaders and executives</li><li>5-7 years of demonstrated success in business analytics, operational and financial forecasting</li><li>Advanced Degree (Master\\'s or PhD) in a technical field preferred</li><li>Experience with modeling techniques such as generalized linear models,\\xc2\\xa0cluster analysis,\\xc2\\xa0random forests, boosting, decision trees, time-series, and neural networks</li><li>Strong\\xc2\\xa0programming and analytical skills in major analytics software packages such as R and Python</li><li>Excellent SQL skills; comfortable using various data access tools</li><li>Self-motivated, curious,\\xc2\\xa0independent, organized and proactive</li><li>Highly responsive, flexible, and adaptable when working across multiple business units</li><li>Excellent written and oral communication skills</li><li>Prior experience in subscription based business or\\xc2\\xa0consumer packaged goods\\xc2\\xa0(a plus)</li><li>Experience using BI\\xc2\\xa0reporting\\xc2\\xa0platforms including\\xc2\\xa0Microstrategy\\xc2\\xa0and Tableau (as plus)</li><li>Previous experience\\xc2\\xa0advising or mentoring\\xc2\\xa0junior team members (a plus)</li></ul><p>\\xc2\\xa0</p><p><strong>The Company</strong>Rodan\\xc2\\xa0+ Fields\\xc2\\xae is defining the future of social commerce for a social category. As a leading anti-aging skincare company founded by Dr. KatieRodan\\xc2\\xa0and Dr. Kathy Fields, world-renowned dermatologists and creators of\\xc2\\xa0Proactiv\\xc2\\xae Solution,\\xc2\\xa0Rodan\\xc2\\xa0+ Fields crowd sources the marketing and sales of clinically-proven, transformative products by empowering personal enterprise. With high double-digit annual growth since its inception in 2008, a growing network of demographically attractive independent consultants and customers, groundbreaking product introductions and industry accolades,\\xc2\\xa0Rodan\\xc2\\xa0+ Fields is a fast-paced, values-anchored company at the intersection of consumer packaged goods, digital products and personal enterprise in the heart of San Francisco.</p><p>\\xc2\\xa0</p>\\n</div>'"
      ]
     },
     "execution_count": 28,
     "metadata": {},
     "output_type": "execute_result"
    }
   ],
   "source": [
    "SF.job_description[0]"
   ]
  },
  {
   "cell_type": "code",
   "execution_count": 31,
   "metadata": {
    "collapsed": false
   },
   "outputs": [
    {
     "data": {
      "text/plain": [
       "'The Opportunity  Are you passionate about mining datafor answersto challenging problem  finding actionable solutionsthatno one else can solve Do you thrive at distillinglarge quantities of customerdatainto a coherent story with clear  easy to follow conclusions implicationsand actionable recommendations informed by knowledge of the business  If thissounds like you please continuereading  TheRodan+ Fields Business Intelligence and Analytics Department is looking for a Data Scientist with a specialty in customer analytics to join the Advanced Analytics team  Members of our team work closely with Sales  Marketing  and Customer Loyaltyproviding insightsinto the behavior of R Fs customersto enable the leadership and operational teams make better informed  data driven decisions The ideal candidate will bring analytical rigor and statistical methods to the challenges of understandingand modelingthe behavior of R Fs consultants and customers  The insights from this role willbedrivers of multiplestrategic businessdecisions includingsales andoperational planning customer retention  and marketing  Key Responsibilities  Customer lifecycleanalysis and modelingwith a focus on acquisition  retention  andchurnand revenue trends Customer segmentation Customer Lifetime Value Marketing Optimization Find creative solutions to business problems using advanced mathematical algorithms Developrelevant metrics that enable improved decision making across business functions Anticipate performance questions  perform sensitivity analyses  and proactively communicate to business leadership Perform ad hoc analysesto senior management Mentor and managejunior Data Scientists Requirements  Passionate about producing high quality analytics deliverables and communicating results tobroad audience including department users business leaders and executives     years of demonstrated success in business analytics  operational and financial forecasting Advanced Degree  Master s or PhD  in a technical field preferred Experience with modeling techniques such as generalized linear models cluster analysis random forests  boosting  decision trees  time series  and neural networks Strongprogramming and analytical skills in major analytics software packages such as R and Python Excellent SQL skills  comfortable using various data access tools Self motivated  curious independent  organized and proactive Highly responsive  flexible  and adaptable when working across multiple business units Excellent written and oral communication skills Prior experience in subscription based business orconsumer packaged goods a plus  Experience using BIreportingplatforms includingMicrostrategyand Tableau  as plus  Previous experienceadvising or mentoringjunior team members  a plus  The Company Rodan+ Fields is defining the future of social commerce for a social category  As a leading anti aging skincare company founded by Dr  KatieRodanand Dr  Kathy Fields  world renowned dermatologists and creators ofProactiv Solution Rodan+ Fields crowd sources the marketing and sales of clinically proven  transformative products by empowering personal enterprise  With high double digit annual growth since its inception in       a growing network of demographically attractive independent consultants and customers  groundbreaking product introductions and industry accolades Rodan+ Fields is a fast paced  values anchored company at the intersection of consumer packaged goods  digital products and personal enterprise in the heart of San Francisco  '"
      ]
     },
     "execution_count": 31,
     "metadata": {},
     "output_type": "execute_result"
    }
   ],
   "source": [
    "text_cleaner(SF.job_description[0],Oneline=True)"
   ]
  },
  {
   "cell_type": "code",
   "execution_count": 86,
   "metadata": {
    "collapsed": false
   },
   "outputs": [],
   "source": [
    "def text_preprocess(line): # perform tokenization, select noun, Lemmertization etc on a line text\n",
    "\n",
    "    rtext=[]    \n",
    "    for w, tag in nltk.pos_tag(nltk.word_tokenize(line.lower())):  # Tokenization\n",
    "        if tag in ['NN']:  # Keep only Nouns (for this special case)\n",
    "            rtext.append(w)\n",
    "    \n",
    "    wordnet_lemmatizer = WordNetLemmatizer()  # Lemmertization\n",
    "    rtext = [wordnet_lemmatizer.lemmatize(w) for w in rtext]\n",
    "            \n",
    "    stop_words = set(stopwords.words(\"english\")) # Filter out any stop words\n",
    "    rtext = [w for w in rtext if not w in stop_words]\n",
    "    \n",
    "    return rtext"
   ]
  },
  {
   "cell_type": "code",
   "execution_count": 87,
   "metadata": {
    "collapsed": false
   },
   "outputs": [],
   "source": [
    "texts = []\n",
    "for i in range (SF.shape[0]):\n",
    "    texts.append(text_preprocess(SF.job_description[i]))"
   ]
  },
  {
   "cell_type": "code",
   "execution_count": 54,
   "metadata": {
    "collapsed": true
   },
   "outputs": [],
   "source": [
    "dictionary = corpora.Dictionary(texts)"
   ]
  },
  {
   "cell_type": "code",
   "execution_count": 57,
   "metadata": {
    "collapsed": true
   },
   "outputs": [],
   "source": [
    "corpus = [dictionary.doc2bow(text) for text in texts]\n"
   ]
  },
  {
   "cell_type": "code",
   "execution_count": 59,
   "metadata": {
    "collapsed": true
   },
   "outputs": [],
   "source": [
    "tfidf = models.TfidfModel(corpus)"
   ]
  },
  {
   "cell_type": "code",
   "execution_count": 60,
   "metadata": {
    "collapsed": true
   },
   "outputs": [],
   "source": [
    "corpus_tfidf = tfidf[corpus]"
   ]
  },
  {
   "cell_type": "code",
   "execution_count": 14,
   "metadata": {
    "collapsed": true
   },
   "outputs": [],
   "source": [
    "def TFIDFModels(corpus_list):\n",
    "  tfidf = models.TfidfModel(corpus_list)\n",
    "  tfidf_corpus = tfidf[corpus_list]\n",
    "  return tfidf,tfidf_corpus"
   ]
  },
  {
   "cell_type": "code",
   "execution_count": 15,
   "metadata": {
    "collapsed": true
   },
   "outputs": [],
   "source": [
    "#Create a bag of words from a list of text \n",
    "def GetVectors(evt_list,max_features=500):\n",
    "  vectorizer = CountVectorizer(analyzer = \"word\",   \\\n",
    "                             tokenizer = None,    \\\n",
    "                             preprocessor = None, \\\n",
    "                             stop_words = None,   \\\n",
    "                             max_features = max_features) \n",
    "  in_features = vectorizer.fit_transform(evt_list)\n",
    "  in_features = in_features.toarray()\n",
    "  vocab = vectorizer.get_feature_names()\n",
    "  vocab = numpy.array(vocab)\n",
    "  return in_features,vocab"
   ]
  },
  {
   "cell_type": "code",
   "execution_count": 82,
   "metadata": {
    "collapsed": false
   },
   "outputs": [
    {
     "data": {
      "text/plain": [
       "(<gensim.models.tfidfmodel.TfidfModel at 0x1221ab050>,\n",
       " <gensim.interfaces.TransformedCorpus at 0x121546c50>)"
      ]
     },
     "execution_count": 82,
     "metadata": {},
     "output_type": "execute_result"
    }
   ],
   "source": [
    "TFIDFModels(corpus)"
   ]
  },
  {
   "cell_type": "code",
   "execution_count": 26,
   "metadata": {
    "collapsed": true
   },
   "outputs": [],
   "source": []
  },
  {
   "cell_type": "code",
   "execution_count": null,
   "metadata": {
    "collapsed": true
   },
   "outputs": [],
   "source": []
  }
 ],
 "metadata": {
  "anaconda-cloud": {},
  "kernelspec": {
   "display_name": "Python [default]",
   "language": "python",
   "name": "python2"
  },
  "language_info": {
   "codemirror_mode": {
    "name": "ipython",
    "version": 2
   },
   "file_extension": ".py",
   "mimetype": "text/x-python",
   "name": "python",
   "nbconvert_exporter": "python",
   "pygments_lexer": "ipython2",
   "version": "2.7.12"
  }
 },
 "nbformat": 4,
 "nbformat_minor": 1
}
