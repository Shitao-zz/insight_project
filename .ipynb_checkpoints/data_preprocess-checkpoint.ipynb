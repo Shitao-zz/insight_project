{
 "cells": [
  {
   "cell_type": "code",
   "execution_count": 50,
   "metadata": {
    "collapsed": false
   },
   "outputs": [],
   "source": [
    "import itertools\n",
    "import re\n",
    "from nltk.corpus import stopwords\n",
    "from nltk.stem.porter import PorterStemmer\n",
    "import nltk\n",
    "from nltk.stem import WordNetLemmatizer\n",
    "import pandas as pd\n",
    "import sys\n",
    "from nltk import *\n",
    "from sklearn.feature_extraction.text import CountVectorizer\n",
    "from gensim import corpora, models, similarities\n",
    "from gensim.models import word2vec\n",
    "from sklearn import decomposition\n",
    "\n",
    "import matplotlib.pyplot as plt\n",
    "\n",
    "%matplotlib inline"
   ]
  },
  {
   "cell_type": "code",
   "execution_count": 51,
   "metadata": {
    "collapsed": false
   },
   "outputs": [],
   "source": [
    "SF = pd.read_csv('./data/SF_jobs.csv')\n",
    "#NYC = pd.read_csv('./data/SF_jobs.csv')\n",
    "#Seattle = pd.read_csv('./data/SF_jobs.csv')\n",
    "SF.drop('Unnamed: 0',axis=1,inplace=True)"
   ]
  },
  {
   "cell_type": "code",
   "execution_count": 52,
   "metadata": {
    "collapsed": false
   },
   "outputs": [],
   "source": [
    "def text_preprocess(line): # perform tokenization, select noun, Lemmertization etc on a line text\n",
    "\n",
    "    rtext=[]    \n",
    "    for w, tag in nltk.pos_tag(nltk.word_tokenize(line.lower())):  # Tokenization\n",
    "        if tag in ['NN']:  # Keep only Nouns (for this special case)\n",
    "            rtext.append(w)\n",
    "    \n",
    "    wordnet_lemmatizer = WordNetLemmatizer()  # Lemmertization\n",
    "    rtext = [wordnet_lemmatizer.lemmatize(w) for w in rtext]\n",
    "            \n",
    "    stop_words = set(stopwords.words(\"english\")) # Filter out any stop words\n",
    "    rtext = [w for w in rtext if not w in stop_words]\n",
    "    \n",
    "    return rtext"
   ]
  },
  {
   "cell_type": "code",
   "execution_count": 53,
   "metadata": {
    "collapsed": false
   },
   "outputs": [],
   "source": [
    "texts = []\n",
    "for i in range (SF.shape[0]):\n",
    "    texts.append(text_preprocess(SF.job_description[i]))"
   ]
  },
  {
   "cell_type": "code",
   "execution_count": 54,
   "metadata": {
    "collapsed": true
   },
   "outputs": [],
   "source": [
    "dictionary = corpora.Dictionary(texts)"
   ]
  },
  {
   "cell_type": "code",
   "execution_count": 57,
   "metadata": {
    "collapsed": true
   },
   "outputs": [],
   "source": [
    "corpus = [dictionary.doc2bow(text) for text in texts]\n"
   ]
  },
  {
   "cell_type": "code",
   "execution_count": 59,
   "metadata": {
    "collapsed": true
   },
   "outputs": [],
   "source": [
    "tfidf = models.TfidfModel(corpus)"
   ]
  },
  {
   "cell_type": "code",
   "execution_count": 60,
   "metadata": {
    "collapsed": true
   },
   "outputs": [],
   "source": [
    "corpus_tfidf = tfidf[corpus]"
   ]
  },
  {
   "cell_type": "code",
   "execution_count": 14,
   "metadata": {
    "collapsed": true
   },
   "outputs": [],
   "source": [
    "def TFIDFModels(corpus_list):\n",
    "  tfidf = models.TfidfModel(corpus_list)\n",
    "  tfidf_corpus = tfidf[corpus_list]\n",
    "  return tfidf,tfidf_corpus"
   ]
  },
  {
   "cell_type": "code",
   "execution_count": 15,
   "metadata": {
    "collapsed": true
   },
   "outputs": [],
   "source": [
    "#Create a bag of words from a list of text (evt_list)\n",
    "def GetVectors(evt_list,max_features=500):\n",
    "  vectorizer = CountVectorizer(analyzer = \"word\",   \\\n",
    "                             tokenizer = None,    \\\n",
    "                             preprocessor = None, \\\n",
    "                             stop_words = None,   \\\n",
    "                             max_features = max_features) \n",
    "  in_features = vectorizer.fit_transform(evt_list)\n",
    "  in_features = in_features.toarray()\n",
    "  vocab = vectorizer.get_feature_names()\n",
    "  vocab = numpy.array(vocab)\n",
    "  return in_features,vocab"
   ]
  },
  {
   "cell_type": "code",
   "execution_count": 82,
   "metadata": {
    "collapsed": false
   },
   "outputs": [
    {
     "data": {
      "text/plain": [
       "(<gensim.models.tfidfmodel.TfidfModel at 0x1221ab050>,\n",
       " <gensim.interfaces.TransformedCorpus at 0x121546c50>)"
      ]
     },
     "execution_count": 82,
     "metadata": {},
     "output_type": "execute_result"
    }
   ],
   "source": [
    "TFIDFModels(corpus)"
   ]
  },
  {
   "cell_type": "code",
   "execution_count": 21,
   "metadata": {
    "collapsed": true
   },
   "outputs": [],
   "source": []
  },
  {
   "cell_type": "code",
   "execution_count": 26,
   "metadata": {
    "collapsed": true
   },
   "outputs": [],
   "source": []
  },
  {
   "cell_type": "code",
   "execution_count": null,
   "metadata": {
    "collapsed": true
   },
   "outputs": [],
   "source": []
  }
 ],
 "metadata": {
  "anaconda-cloud": {},
  "kernelspec": {
   "display_name": "Python [default]",
   "language": "python",
   "name": "python2"
  },
  "language_info": {
   "codemirror_mode": {
    "name": "ipython",
    "version": 2
   },
   "file_extension": ".py",
   "mimetype": "text/x-python",
   "name": "python",
   "nbconvert_exporter": "python",
   "pygments_lexer": "ipython2",
   "version": "2.7.12"
  }
 },
 "nbformat": 4,
 "nbformat_minor": 1
}
