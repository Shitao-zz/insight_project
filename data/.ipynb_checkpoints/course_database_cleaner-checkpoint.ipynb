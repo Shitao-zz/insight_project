{
 "cells": [
  {
   "cell_type": "code",
   "execution_count": 1,
   "metadata": {
    "collapsed": true
   },
   "outputs": [],
   "source": [
    "import pandas as pd\n",
    "import re"
   ]
  },
  {
   "cell_type": "code",
   "execution_count": 2,
   "metadata": {
    "collapsed": false
   },
   "outputs": [],
   "source": [
    "course_data = pd.read_csv('udemy_courses_new.csv')\n",
    "\n",
    "program_languages=['bash','r','python','java','c++','ruby','perl','matlab','javascript','scala','php','c#']\n",
    "analysis_software=['excel','tableau','d3.js','sas','spss','d3','saas','pandas','numpy','scipy','sps','spotfire','sklearn','splunk','powerpoint','h2o']\n",
    "bigdata_tool=['hadoop','mapreduce','spark','pig','hive','shark','oozie','zookeeper','flume','mahout']\n",
    "databases=['sql','nosql','hbase','cassandra','mongodb','mysql','mssql','postgresql','oracle db','rdbms']\n",
    "overall_dict = program_languages + analysis_software + bigdata_tool + databases"
   ]
  },
  {
   "cell_type": "code",
   "execution_count": 3,
   "metadata": {
    "collapsed": false
   },
   "outputs": [],
   "source": [
    "def text_cleaner(text):\n",
    "    \n",
    "    text = re.sub(\"[^a-zA-Z.+3#]\",\" \", text).lower() # Now get rid of any terms that aren't words (include 3 for d3.js)\n",
    "\n",
    "    #text = text.lower().split()  # Go to lower case and split them apart\n",
    "    #text = [w for w in text if (w in overall_dict)]\n",
    "    #text = list(set(text)) \n",
    "    \n",
    "    return text"
   ]
  },
  {
   "cell_type": "code",
   "execution_count": 4,
   "metadata": {
    "collapsed": false
   },
   "outputs": [
    {
     "name": "stderr",
     "output_type": "stream",
     "text": [
      "/Users/swang/anaconda/lib/python2.7/site-packages/ipykernel/__main__.py:4: SettingWithCopyWarning: \n",
      "A value is trying to be set on a copy of a slice from a DataFrame\n",
      "\n",
      "See the caveats in the documentation: http://pandas.pydata.org/pandas-docs/stable/indexing.html#indexing-view-versus-copy\n",
      "/Users/swang/anaconda/lib/python2.7/site-packages/ipykernel/__main__.py:6: SettingWithCopyWarning: \n",
      "A value is trying to be set on a copy of a slice from a DataFrame\n",
      "\n",
      "See the caveats in the documentation: http://pandas.pydata.org/pandas-docs/stable/indexing.html#indexing-view-versus-copy\n"
     ]
    }
   ],
   "source": [
    "course_data['cleaned_description'] = None\n",
    "for i in range(course_data.shape[0]):\n",
    "    try:\n",
    "        course_data.cleaned_description[i] = text_cleaner(course_data.description[i])\n",
    "    except:\n",
    "        course_data.cleaned_description[i] = None"
   ]
  },
  {
   "cell_type": "code",
   "execution_count": 5,
   "metadata": {
    "collapsed": false
   },
   "outputs": [
    {
     "data": {
      "text/html": [
       "<div>\n",
       "<table border=\"1\" class=\"dataframe\">\n",
       "  <thead>\n",
       "    <tr style=\"text-align: right;\">\n",
       "      <th></th>\n",
       "      <th>Unnamed: 0</th>\n",
       "      <th>avg_rating</th>\n",
       "      <th>description</th>\n",
       "      <th>headline</th>\n",
       "      <th>homepage</th>\n",
       "      <th>image</th>\n",
       "      <th>num_reviews</th>\n",
       "      <th>title</th>\n",
       "      <th>cleaned_description</th>\n",
       "    </tr>\n",
       "  </thead>\n",
       "  <tbody>\n",
       "    <tr>\n",
       "      <th>0</th>\n",
       "      <td>0</td>\n",
       "      <td>4.14286</td>\n",
       "      <td>In this Fast Start course we'll look at s...</td>\n",
       "      <td>Sneak peek into new features of iOS7 and Xcode...</td>\n",
       "      <td>www.udemy.com/ios7-programming-fast-start/</td>\n",
       "      <td>https://udemy-images.udemy.com/course/240x135/...</td>\n",
       "      <td>7.0</td>\n",
       "      <td>iOS7 Programming: Fast Start!</td>\n",
       "      <td>in this fast start course we ll look at s...</td>\n",
       "    </tr>\n",
       "    <tr>\n",
       "      <th>1</th>\n",
       "      <td>1</td>\n",
       "      <td>4.60000</td>\n",
       "      <td>Don't  struggle with many hours of learning co...</td>\n",
       "      <td>In this course you will learn how to develop i...</td>\n",
       "      <td>www.udemy.com/appsinxcode/</td>\n",
       "      <td>https://udemy-images.udemy.com/course/240x135/...</td>\n",
       "      <td>5.0</td>\n",
       "      <td>Build iPhone Apps with Ease</td>\n",
       "      <td>don t  struggle with many hours of learning co...</td>\n",
       "    </tr>\n",
       "    <tr>\n",
       "      <th>2</th>\n",
       "      <td>2</td>\n",
       "      <td>3.65625</td>\n",
       "      <td>Learn from scratch how to make awesome iPhone...</td>\n",
       "      <td>All the teachings and source code from this co...</td>\n",
       "      <td>www.udemy.com/ios-7-app-development/</td>\n",
       "      <td>https://udemy-images.udemy.com/course/240x135/...</td>\n",
       "      <td>16.0</td>\n",
       "      <td>iOS 7 App Development for Beginners (100% iOS ...</td>\n",
       "      <td>learn from scratch how to make awesome iphone...</td>\n",
       "    </tr>\n",
       "    <tr>\n",
       "      <th>3</th>\n",
       "      <td>3</td>\n",
       "      <td>2.00000</td>\n",
       "      <td>BONUS!!!!YOU GET 176 GAME READY IMAGES WITH TH...</td>\n",
       "      <td>Learn how to make games without writing a sing...</td>\n",
       "      <td>www.udemy.com/make-iphone-and-ipad-games-in-1-...</td>\n",
       "      <td>https://udemy-images.udemy.com/course/240x135/...</td>\n",
       "      <td>1.0</td>\n",
       "      <td>Make iPhone and iPad games without programming</td>\n",
       "      <td>bonus    you get     game ready images with th...</td>\n",
       "    </tr>\n",
       "    <tr>\n",
       "      <th>4</th>\n",
       "      <td>4</td>\n",
       "      <td>4.28680</td>\n",
       "      <td>This course is the beginning track for certifi...</td>\n",
       "      <td>Learn the fundamentals of programming in this ...</td>\n",
       "      <td>www.udemy.com/cwc-introduction/</td>\n",
       "      <td>https://udemy-images.udemy.com/course/240x135/...</td>\n",
       "      <td>197.0</td>\n",
       "      <td>C# Introduction</td>\n",
       "      <td>this course is the beginning track for certifi...</td>\n",
       "    </tr>\n",
       "  </tbody>\n",
       "</table>\n",
       "</div>"
      ],
      "text/plain": [
       "   Unnamed: 0  avg_rating                                        description  \\\n",
       "0           0     4.14286       In this Fast Start course we'll look at s...   \n",
       "1           1     4.60000  Don't  struggle with many hours of learning co...   \n",
       "2           2     3.65625   Learn from scratch how to make awesome iPhone...   \n",
       "3           3     2.00000  BONUS!!!!YOU GET 176 GAME READY IMAGES WITH TH...   \n",
       "4           4     4.28680  This course is the beginning track for certifi...   \n",
       "\n",
       "                                            headline  \\\n",
       "0  Sneak peek into new features of iOS7 and Xcode...   \n",
       "1  In this course you will learn how to develop i...   \n",
       "2  All the teachings and source code from this co...   \n",
       "3  Learn how to make games without writing a sing...   \n",
       "4  Learn the fundamentals of programming in this ...   \n",
       "\n",
       "                                            homepage  \\\n",
       "0         www.udemy.com/ios7-programming-fast-start/   \n",
       "1                         www.udemy.com/appsinxcode/   \n",
       "2               www.udemy.com/ios-7-app-development/   \n",
       "3  www.udemy.com/make-iphone-and-ipad-games-in-1-...   \n",
       "4                    www.udemy.com/cwc-introduction/   \n",
       "\n",
       "                                               image  num_reviews  \\\n",
       "0  https://udemy-images.udemy.com/course/240x135/...          7.0   \n",
       "1  https://udemy-images.udemy.com/course/240x135/...          5.0   \n",
       "2  https://udemy-images.udemy.com/course/240x135/...         16.0   \n",
       "3  https://udemy-images.udemy.com/course/240x135/...          1.0   \n",
       "4  https://udemy-images.udemy.com/course/240x135/...        197.0   \n",
       "\n",
       "                                               title  \\\n",
       "0                      iOS7 Programming: Fast Start!   \n",
       "1                        Build iPhone Apps with Ease   \n",
       "2  iOS 7 App Development for Beginners (100% iOS ...   \n",
       "3     Make iPhone and iPad games without programming   \n",
       "4                                    C# Introduction   \n",
       "\n",
       "                                 cleaned_description  \n",
       "0       in this fast start course we ll look at s...  \n",
       "1  don t  struggle with many hours of learning co...  \n",
       "2   learn from scratch how to make awesome iphone...  \n",
       "3  bonus    you get     game ready images with th...  \n",
       "4  this course is the beginning track for certifi...  "
      ]
     },
     "execution_count": 5,
     "metadata": {},
     "output_type": "execute_result"
    }
   ],
   "source": [
    "course_data.head()"
   ]
  },
  {
   "cell_type": "code",
   "execution_count": 6,
   "metadata": {
    "collapsed": true
   },
   "outputs": [],
   "source": [
    "course_data.to_csv('udemy_courses_cleaned.csv')"
   ]
  },
  {
   "cell_type": "code",
   "execution_count": null,
   "metadata": {
    "collapsed": true
   },
   "outputs": [],
   "source": []
  }
 ],
 "metadata": {
  "anaconda-cloud": {},
  "kernelspec": {
   "display_name": "Python [default]",
   "language": "python",
   "name": "python2"
  },
  "language_info": {
   "codemirror_mode": {
    "name": "ipython",
    "version": 2
   },
   "file_extension": ".py",
   "mimetype": "text/x-python",
   "name": "python",
   "nbconvert_exporter": "python",
   "pygments_lexer": "ipython2",
   "version": "2.7.12"
  }
 },
 "nbformat": 4,
 "nbformat_minor": 1
}
