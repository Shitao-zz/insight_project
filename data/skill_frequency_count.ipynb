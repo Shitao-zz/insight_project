{
 "cells": [
  {
   "cell_type": "code",
   "execution_count": 22,
   "metadata": {
    "collapsed": false
   },
   "outputs": [],
   "source": [
    "from bs4 import BeautifulSoup # For HTML parsing\n",
    "import urllib2 # Website connections\n",
    "import re # Regular expressions\n",
    "from time import sleep # To prevent overwhelming the server between connections\n",
    "from nltk.corpus import stopwords # Filter out stopwords, such as 'the', 'or', 'and'\n",
    "import pandas as pd # For converting results to a dataframe and bar chart plots\n",
    "from collections import Counter\n",
    "\n",
    "%matplotlib inline"
   ]
  },
  {
   "cell_type": "code",
   "execution_count": 2,
   "metadata": {
    "collapsed": true
   },
   "outputs": [],
   "source": [
    "# library for the key words. Stretch goal: build one from the job description using a topic model: LDA.\n",
    "\n",
    "program_languages=['bash','r','python','java','c++','ruby','perl','matlab','javascript','scala','php','c#']\n",
    "analysis_software=['excel','tableau','d3.js','sas','spss','d3','saas','pandas','numpy','scipy','sps','spotfire','scikits.learn','splunk','powerpoint','h2o']\n",
    "bigdata_tool=['hadoop','mapreduce','spark','pig','hive','shark','oozie','zookeeper','flume','mahout']\n",
    "databases=['sql','nosql','hbase','cassandra','mongodb','mysql','mssql','postgresql','oracle db','rdbms']\n",
    "overall_dict = program_languages + analysis_software + bigdata_tool + databases\n",
    "\n",
    "\n",
    "def text_cleaner(text):\n",
    "    \n",
    "    lines = (line.strip() for line in text.splitlines()) # break into lines\n",
    "    chunks = (phrase.strip() for line in lines for phrase in line.split(\"  \")) # break multi-headlines into a line each\n",
    "    \n",
    "    def chunk_space(chunk):\n",
    "        chunk_out = chunk + ' ' # Need to fix spacing issue\n",
    "        return chunk_out  \n",
    "        \n",
    "    text = ''.join(chunk_space(chunk) for chunk in chunks if chunk).encode('utf-8') # Get rid of all blank lines and ends of line\n",
    "    # Now clean out all of the unicode junk (this line works great!!!)\n",
    "        \n",
    "    try:\n",
    "        text = text.decode('unicode_escape').encode('ascii', 'ignore') # Need this as some websites aren't formatted\n",
    "    except:                                                            # in a way that this works, can occasionally throw\n",
    "        return                                                         # an exception\n",
    "        \n",
    "    text = re.sub(\"[^a-zA-Z.+3#]\",\" \", text)  # Now get rid of any terms that aren't words (include 3 for d3.js)\n",
    "\n",
    "    text = text.lower().split()  # Go to lower case and split them apart\n",
    "    stop_words = set(stopwords.words(\"english\")) # Filter out any stop words\n",
    "    text = [w for w in text if (not w in stop_words)&(w in overall_dict)]\n",
    "    #text = list(set(text)) \n",
    "    \n",
    "    return text"
   ]
  },
  {
   "cell_type": "code",
   "execution_count": 56,
   "metadata": {
    "collapsed": false
   },
   "outputs": [],
   "source": [
    "SF = pd.read_csv('SF_jobs.csv')"
   ]
  },
  {
   "cell_type": "code",
   "execution_count": 57,
   "metadata": {
    "collapsed": false
   },
   "outputs": [],
   "source": [
    "skills = []\n",
    "\n",
    "for i in range(SF.shape[0]):\n",
    "     skills = skills + text_cleaner(SF.job_description[i])"
   ]
  },
  {
   "cell_type": "code",
   "execution_count": 58,
   "metadata": {
    "collapsed": false
   },
   "outputs": [],
   "source": [
    "counts = Counter(skills)\n"
   ]
  },
  {
   "cell_type": "code",
   "execution_count": 59,
   "metadata": {
    "collapsed": false
   },
   "outputs": [
    {
     "data": {
      "text/plain": [
       "Counter({'bash': 45,\n",
       "         'c#': 141,\n",
       "         'c++': 125,\n",
       "         'cassandra': 122,\n",
       "         'd3': 23,\n",
       "         'd3.js': 13,\n",
       "         'excel': 189,\n",
       "         'flume': 8,\n",
       "         'hadoop': 352,\n",
       "         'hbase': 76,\n",
       "         'hive': 100,\n",
       "         'java': 830,\n",
       "         'javascript': 400,\n",
       "         'mahout': 7,\n",
       "         'mapreduce': 45,\n",
       "         'matlab': 21,\n",
       "         'mongodb': 57,\n",
       "         'mssql': 23,\n",
       "         'mysql': 129,\n",
       "         'nosql': 200,\n",
       "         'numpy': 13,\n",
       "         'oozie': 4,\n",
       "         'pandas': 6,\n",
       "         'perl': 114,\n",
       "         'php': 75,\n",
       "         'pig': 42,\n",
       "         'postgresql': 58,\n",
       "         'powerpoint': 66,\n",
       "         'python': 533,\n",
       "         'r': 200,\n",
       "         'rdbms': 51,\n",
       "         'ruby': 159,\n",
       "         'saas': 132,\n",
       "         'sas': 78,\n",
       "         'scala': 165,\n",
       "         'scipy': 3,\n",
       "         'shark': 2,\n",
       "         'spark': 231,\n",
       "         'splunk': 79,\n",
       "         'spotfire': 15,\n",
       "         'spss': 9,\n",
       "         'sql': 959,\n",
       "         'tableau': 91,\n",
       "         'zookeeper': 12})"
      ]
     },
     "execution_count": 59,
     "metadata": {},
     "output_type": "execute_result"
    }
   ],
   "source": [
    "counts"
   ]
  },
  {
   "cell_type": "code",
   "execution_count": null,
   "metadata": {
    "collapsed": true
   },
   "outputs": [],
   "source": []
  }
 ],
 "metadata": {
  "anaconda-cloud": {},
  "kernelspec": {
   "display_name": "Python [default]",
   "language": "python",
   "name": "python2"
  },
  "language_info": {
   "codemirror_mode": {
    "name": "ipython",
    "version": 2
   },
   "file_extension": ".py",
   "mimetype": "text/x-python",
   "name": "python",
   "nbconvert_exporter": "python",
   "pygments_lexer": "ipython2",
   "version": "2.7.12"
  }
 },
 "nbformat": 4,
 "nbformat_minor": 1
}
