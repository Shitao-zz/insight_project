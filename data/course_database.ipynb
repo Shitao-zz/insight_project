{
 "cells": [
  {
   "cell_type": "code",
   "execution_count": 1,
   "metadata": {
    "collapsed": true
   },
   "outputs": [],
   "source": [
    "from sqlalchemy import create_engine\n",
    "from sqlalchemy_utils import database_exists, create_database\n",
    "import psycopg2\n",
    "import pandas as pd"
   ]
  },
  {
   "cell_type": "code",
   "execution_count": 2,
   "metadata": {
    "collapsed": false
   },
   "outputs": [
    {
     "name": "stdout",
     "output_type": "stream",
     "text": [
      "True\n"
     ]
    }
   ],
   "source": []
  },
  {
   "cell_type": "code",
   "execution_count": 3,
   "metadata": {
    "collapsed": true
   },
   "outputs": [],
   "source": [
    "course_data = pd.DataFrame.from_csv('udemy_courses_new.csv')"
   ]
  },
  {
   "cell_type": "code",
   "execution_count": 5,
   "metadata": {
    "collapsed": true
   },
   "outputs": [],
   "source": [
    "course_data.to_sql('course_data_table', engine, if_exists='replace')"
   ]
  },
  {
   "cell_type": "code",
   "execution_count": null,
   "metadata": {
    "collapsed": true
   },
   "outputs": [],
   "source": []
  },
  {
   "cell_type": "code",
   "execution_count": 16,
   "metadata": {
    "collapsed": false
   },
   "outputs": [
    {
     "name": "stdout",
     "output_type": "stream",
     "text": [
      "True\n"
     ]
    }
   ],
   "source": [
    "dbname = 'courses_db'\n",
    "username = 'swang'\n",
    "pswd = '1118'\n",
    "engine = create_engine('postgresql://%s:%s@localhost/%s'%(username,pswd,dbname))\n",
    "if not database_exists(engine.url):\n",
    "    create_database(engine.url)\n",
    "print(database_exists(engine.url))\n"
   ]
  },
  {
   "cell_type": "code",
   "execution_count": null,
   "metadata": {
    "collapsed": true
   },
   "outputs": [],
   "source": [
    "# add database"
   ]
  },
  {
   "cell_type": "code",
   "execution_count": null,
   "metadata": {
    "collapsed": true
   },
   "outputs": [],
   "source": [
    "# connect:\n",
    "con = None\n",
    "con = psycopg2.connect(database = dbname, user = username, host='localhost', password=pswd)"
   ]
  },
  {
   "cell_type": "code",
   "execution_count": 43,
   "metadata": {
    "collapsed": false
   },
   "outputs": [
    {
     "data": {
      "text/html": [
       "<div>\n",
       "<table border=\"1\" class=\"dataframe\">\n",
       "  <thead>\n",
       "    <tr style=\"text-align: right;\">\n",
       "      <th></th>\n",
       "      <th>index</th>\n",
       "      <th>avg_rating</th>\n",
       "      <th>description</th>\n",
       "      <th>headline</th>\n",
       "      <th>homepage</th>\n",
       "      <th>image</th>\n",
       "      <th>num_reviews</th>\n",
       "      <th>title</th>\n",
       "    </tr>\n",
       "  </thead>\n",
       "  <tbody>\n",
       "    <tr>\n",
       "      <th>0</th>\n",
       "      <td>437</td>\n",
       "      <td>4.69880</td>\n",
       "      <td>\\t    The Pro Ruby on Rails Starter Course p...</td>\n",
       "      <td>Take the first step in learning Ruby on Rails ...</td>\n",
       "      <td>www.udemy.com/pro-rubyonrails-starter/</td>\n",
       "      <td>https://udemy-images.udemy.com/course/240x135/...</td>\n",
       "      <td>83.0</td>\n",
       "      <td>The Pro Ruby on Rails Starter</td>\n",
       "    </tr>\n",
       "    <tr>\n",
       "      <th>1</th>\n",
       "      <td>2030</td>\n",
       "      <td>4.66190</td>\n",
       "      <td>LEARN HOW TO CODE IN JUST 2 WEEKS!\\nFind out w...</td>\n",
       "      <td>Learn coding with Ruby - the easy, popular web...</td>\n",
       "      <td>www.udemy.com/newbie-to-ruby/</td>\n",
       "      <td>https://udemy-images.udemy.com/course/240x135/...</td>\n",
       "      <td>105.0</td>\n",
       "      <td>Introduction to Coding with Ruby</td>\n",
       "    </tr>\n",
       "    <tr>\n",
       "      <th>2</th>\n",
       "      <td>2048</td>\n",
       "      <td>4.65667</td>\n",
       "      <td>Are you ready to build professional applicatio...</td>\n",
       "      <td>Learn how to build a real world Angular 2 appl...</td>\n",
       "      <td>www.udemy.com/angular-on-rails-course/</td>\n",
       "      <td>https://udemy-images.udemy.com/course/240x135/...</td>\n",
       "      <td>150.0</td>\n",
       "      <td>Angular 2 + Rails 5 Bootcamp</td>\n",
       "    </tr>\n",
       "    <tr>\n",
       "      <th>3</th>\n",
       "      <td>1981</td>\n",
       "      <td>4.63014</td>\n",
       "      <td>Update March 2016 - New lectures have been add...</td>\n",
       "      <td>This is a comprehensive Ruby on Rails developm...</td>\n",
       "      <td>www.udemy.com/comprehensive-ruby-on-rails/</td>\n",
       "      <td>https://udemy-images.udemy.com/course/240x135/...</td>\n",
       "      <td>73.0</td>\n",
       "      <td>Comprehensive Ruby on Rails</td>\n",
       "    </tr>\n",
       "    <tr>\n",
       "      <th>4</th>\n",
       "      <td>963</td>\n",
       "      <td>4.61486</td>\n",
       "      <td>Hi and welcome to the Professional Rails Code ...</td>\n",
       "      <td>Develop a real world Rails project using TDD/B...</td>\n",
       "      <td>www.udemy.com/professional-ruby-on-rails-codin...</td>\n",
       "      <td>https://udemy-images.udemy.com/course/240x135/...</td>\n",
       "      <td>148.0</td>\n",
       "      <td>Professional Rails Code Along</td>\n",
       "    </tr>\n",
       "  </tbody>\n",
       "</table>\n",
       "</div>"
      ],
      "text/plain": [
       "   index  avg_rating                                        description  \\\n",
       "0    437     4.69880    \\t    The Pro Ruby on Rails Starter Course p...   \n",
       "1   2030     4.66190  LEARN HOW TO CODE IN JUST 2 WEEKS!\\nFind out w...   \n",
       "2   2048     4.65667  Are you ready to build professional applicatio...   \n",
       "3   1981     4.63014  Update March 2016 - New lectures have been add...   \n",
       "4    963     4.61486  Hi and welcome to the Professional Rails Code ...   \n",
       "\n",
       "                                            headline  \\\n",
       "0  Take the first step in learning Ruby on Rails ...   \n",
       "1  Learn coding with Ruby - the easy, popular web...   \n",
       "2  Learn how to build a real world Angular 2 appl...   \n",
       "3  This is a comprehensive Ruby on Rails developm...   \n",
       "4  Develop a real world Rails project using TDD/B...   \n",
       "\n",
       "                                            homepage  \\\n",
       "0             www.udemy.com/pro-rubyonrails-starter/   \n",
       "1                      www.udemy.com/newbie-to-ruby/   \n",
       "2             www.udemy.com/angular-on-rails-course/   \n",
       "3         www.udemy.com/comprehensive-ruby-on-rails/   \n",
       "4  www.udemy.com/professional-ruby-on-rails-codin...   \n",
       "\n",
       "                                               image  num_reviews  \\\n",
       "0  https://udemy-images.udemy.com/course/240x135/...         83.0   \n",
       "1  https://udemy-images.udemy.com/course/240x135/...        105.0   \n",
       "2  https://udemy-images.udemy.com/course/240x135/...        150.0   \n",
       "3  https://udemy-images.udemy.com/course/240x135/...         73.0   \n",
       "4  https://udemy-images.udemy.com/course/240x135/...        148.0   \n",
       "\n",
       "                              title  \n",
       "0     The Pro Ruby on Rails Starter  \n",
       "1  Introduction to Coding with Ruby  \n",
       "2      Angular 2 + Rails 5 Bootcamp  \n",
       "3       Comprehensive Ruby on Rails  \n",
       "4     Professional Rails Code Along  "
      ]
     },
     "execution_count": 43,
     "metadata": {},
     "output_type": "execute_result"
    }
   ],
   "source": [
    "# query:\n",
    "#sql_query = \"\"\"\n",
    "#SELECT * FROM course_data_table WHERE num_reviews > 500 ORDER BY avg_rating DESC LIMIT 5;\n",
    "#\"\"\"\n",
    "\n",
    "sql_query = \"\"\"\n",
    "SELECT * FROM course_data_table WHERE (description LIKE '% Ruby %') and (num_reviews > 50) ORDER BY avg_rating DESC LIMIT 5;\n",
    "\"\"\"\n",
    "\n",
    "course_data_from_sql = pd.read_sql_query(sql_query,con)\n",
    "\n",
    "course_data_from_sql"
   ]
  },
  {
   "cell_type": "code",
   "execution_count": null,
   "metadata": {
    "collapsed": true
   },
   "outputs": [],
   "source": []
  }
 ],
 "metadata": {
  "anaconda-cloud": {},
  "kernelspec": {
   "display_name": "Python [default]",
   "language": "python",
   "name": "python2"
  },
  "language_info": {
   "codemirror_mode": {
    "name": "ipython",
    "version": 2
   },
   "file_extension": ".py",
   "mimetype": "text/x-python",
   "name": "python",
   "nbconvert_exporter": "python",
   "pygments_lexer": "ipython2",
   "version": "2.7.12"
  }
 },
 "nbformat": 4,
 "nbformat_minor": 1
}
