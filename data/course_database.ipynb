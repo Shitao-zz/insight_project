{
 "cells": [
  {
   "cell_type": "code",
   "execution_count": 1,
   "metadata": {
    "collapsed": true
   },
   "outputs": [],
   "source": [
    "from sqlalchemy import create_engine\n",
    "from sqlalchemy_utils import database_exists, create_database\n",
    "import psycopg2\n",
    "import pandas as pd"
   ]
  },
  {
   "cell_type": "code",
   "execution_count": 2,
   "metadata": {
    "collapsed": false
   },
   "outputs": [
    {
     "name": "stdout",
     "output_type": "stream",
     "text": [
      "True\n"
     ]
    }
   ],
   "source": []
  },
  {
   "cell_type": "code",
   "execution_count": 2,
   "metadata": {
    "collapsed": true
   },
   "outputs": [],
   "source": [
    "course_data = pd.DataFrame.from_csv('udemy_courses_cleaned.csv')"
   ]
  },
  {
   "cell_type": "code",
   "execution_count": 4,
   "metadata": {
    "collapsed": true
   },
   "outputs": [],
   "source": [
    "course_data.to_sql('course_data_table', engine, if_exists='replace')"
   ]
  },
  {
   "cell_type": "code",
   "execution_count": null,
   "metadata": {
    "collapsed": true
   },
   "outputs": [],
   "source": []
  },
  {
   "cell_type": "code",
   "execution_count": 3,
   "metadata": {
    "collapsed": false
   },
   "outputs": [
    {
     "name": "stdout",
     "output_type": "stream",
     "text": [
      "True\n"
     ]
    }
   ],
   "source": [
    "dbname = 'courses_db'\n",
    "username = 'swang'\n",
    "pswd = '1118'\n",
    "engine = create_engine('postgresql://%s:%s@localhost/%s'%(username,pswd,dbname))\n",
    "if not database_exists(engine.url):\n",
    "    create_database(engine.url)\n",
    "print(database_exists(engine.url))\n"
   ]
  },
  {
   "cell_type": "code",
   "execution_count": null,
   "metadata": {
    "collapsed": true
   },
   "outputs": [],
   "source": [
    "# add database"
   ]
  },
  {
   "cell_type": "code",
   "execution_count": 5,
   "metadata": {
    "collapsed": true
   },
   "outputs": [],
   "source": [
    "# connect:\n",
    "con = None\n",
    "con = psycopg2.connect(database = dbname, user = username, host='localhost', password=pswd)"
   ]
  },
  {
   "cell_type": "code",
   "execution_count": 13,
   "metadata": {
    "collapsed": false
   },
   "outputs": [
    {
     "data": {
      "text/html": [
       "<div>\n",
       "<table border=\"1\" class=\"dataframe\">\n",
       "  <thead>\n",
       "    <tr style=\"text-align: right;\">\n",
       "      <th></th>\n",
       "      <th>index</th>\n",
       "      <th>Unnamed: 0.1</th>\n",
       "      <th>avg_rating</th>\n",
       "      <th>description</th>\n",
       "      <th>headline</th>\n",
       "      <th>homepage</th>\n",
       "      <th>image</th>\n",
       "      <th>num_reviews</th>\n",
       "      <th>title</th>\n",
       "      <th>cleaned_description</th>\n",
       "    </tr>\n",
       "  </thead>\n",
       "  <tbody>\n",
       "    <tr>\n",
       "      <th>0</th>\n",
       "      <td>2612</td>\n",
       "      <td>2612</td>\n",
       "      <td>4.73988</td>\n",
       "      <td>What is this course about:\\nThis course covers...</td>\n",
       "      <td>Learn how to build automated continuous integr...</td>\n",
       "      <td>www.udemy.com/the-complete-jenkins-course-for-...</td>\n",
       "      <td>https://udemy-images.udemy.com/course/240x135/...</td>\n",
       "      <td>642.0</td>\n",
       "      <td>The Complete Jenkins Course For Developers and...</td>\n",
       "      <td>what is this course about  this course covers ...</td>\n",
       "    </tr>\n",
       "    <tr>\n",
       "      <th>1</th>\n",
       "      <td>2026</td>\n",
       "      <td>2026</td>\n",
       "      <td>4.69982</td>\n",
       "      <td>This course teaches you how to create desktop ...</td>\n",
       "      <td>Learn how to create desktop and Internet GUI J...</td>\n",
       "      <td>www.udemy.com/java-swing-complete/</td>\n",
       "      <td>https://udemy-images.udemy.com/course/240x135/...</td>\n",
       "      <td>553.0</td>\n",
       "      <td>Java Swing (GUI) Programming: From Beginner to...</td>\n",
       "      <td>this course teaches you how to create desktop ...</td>\n",
       "    </tr>\n",
       "    <tr>\n",
       "      <th>2</th>\n",
       "      <td>1993</td>\n",
       "      <td>1993</td>\n",
       "      <td>4.69982</td>\n",
       "      <td>This course teaches you how to create desktop ...</td>\n",
       "      <td>Learn how to create desktop and Internet GUI J...</td>\n",
       "      <td>www.udemy.com/java-swing-complete/</td>\n",
       "      <td>https://udemy-images.udemy.com/course/240x135/...</td>\n",
       "      <td>553.0</td>\n",
       "      <td>Java Swing (GUI) Programming: From Beginner to...</td>\n",
       "      <td>this course teaches you how to create desktop ...</td>\n",
       "    </tr>\n",
       "    <tr>\n",
       "      <th>3</th>\n",
       "      <td>3100</td>\n",
       "      <td>3100</td>\n",
       "      <td>4.69930</td>\n",
       "      <td>LATEST: Course Updated for Feb 2016\\nNow you c...</td>\n",
       "      <td>Don't just learn Java! Learn to write practica...</td>\n",
       "      <td>www.udemy.com/mastering-object-oriented-design...</td>\n",
       "      <td>https://udemy-images.udemy.com/course/240x135/...</td>\n",
       "      <td>858.0</td>\n",
       "      <td>Master Object Oriented Design in Java - Homewo...</td>\n",
       "      <td>latest  course updated for feb      now you ca...</td>\n",
       "    </tr>\n",
       "    <tr>\n",
       "      <th>4</th>\n",
       "      <td>992</td>\n",
       "      <td>992</td>\n",
       "      <td>4.67770</td>\n",
       "      <td>The ONLY course that covers the NEW VERSIONS o...</td>\n",
       "      <td>Spring Framework: Covers new versions of Sprin...</td>\n",
       "      <td>www.udemy.com/spring-hibernate-tutorial/</td>\n",
       "      <td>https://udemy-images.udemy.com/course/240x135/...</td>\n",
       "      <td>2462.0</td>\n",
       "      <td>Spring and Hibernate for Beginners: Learn Step...</td>\n",
       "      <td>the only  course that covers the new versions ...</td>\n",
       "    </tr>\n",
       "  </tbody>\n",
       "</table>\n",
       "</div>"
      ],
      "text/plain": [
       "   index  Unnamed: 0.1  avg_rating  \\\n",
       "0   2612          2612     4.73988   \n",
       "1   2026          2026     4.69982   \n",
       "2   1993          1993     4.69982   \n",
       "3   3100          3100     4.69930   \n",
       "4    992           992     4.67770   \n",
       "\n",
       "                                         description  \\\n",
       "0  What is this course about:\\nThis course covers...   \n",
       "1  This course teaches you how to create desktop ...   \n",
       "2  This course teaches you how to create desktop ...   \n",
       "3  LATEST: Course Updated for Feb 2016\\nNow you c...   \n",
       "4  The ONLY course that covers the NEW VERSIONS o...   \n",
       "\n",
       "                                            headline  \\\n",
       "0  Learn how to build automated continuous integr...   \n",
       "1  Learn how to create desktop and Internet GUI J...   \n",
       "2  Learn how to create desktop and Internet GUI J...   \n",
       "3  Don't just learn Java! Learn to write practica...   \n",
       "4  Spring Framework: Covers new versions of Sprin...   \n",
       "\n",
       "                                            homepage  \\\n",
       "0  www.udemy.com/the-complete-jenkins-course-for-...   \n",
       "1                 www.udemy.com/java-swing-complete/   \n",
       "2                 www.udemy.com/java-swing-complete/   \n",
       "3  www.udemy.com/mastering-object-oriented-design...   \n",
       "4           www.udemy.com/spring-hibernate-tutorial/   \n",
       "\n",
       "                                               image  num_reviews  \\\n",
       "0  https://udemy-images.udemy.com/course/240x135/...        642.0   \n",
       "1  https://udemy-images.udemy.com/course/240x135/...        553.0   \n",
       "2  https://udemy-images.udemy.com/course/240x135/...        553.0   \n",
       "3  https://udemy-images.udemy.com/course/240x135/...        858.0   \n",
       "4  https://udemy-images.udemy.com/course/240x135/...       2462.0   \n",
       "\n",
       "                                               title  \\\n",
       "0  The Complete Jenkins Course For Developers and...   \n",
       "1  Java Swing (GUI) Programming: From Beginner to...   \n",
       "2  Java Swing (GUI) Programming: From Beginner to...   \n",
       "3  Master Object Oriented Design in Java - Homewo...   \n",
       "4  Spring and Hibernate for Beginners: Learn Step...   \n",
       "\n",
       "                                 cleaned_description  \n",
       "0  what is this course about  this course covers ...  \n",
       "1  this course teaches you how to create desktop ...  \n",
       "2  this course teaches you how to create desktop ...  \n",
       "3  latest  course updated for feb      now you ca...  \n",
       "4  the only  course that covers the new versions ...  "
      ]
     },
     "execution_count": 13,
     "metadata": {},
     "output_type": "execute_result"
    }
   ],
   "source": [
    "# query:\n",
    "#sql_query = \"\"\"\n",
    "#SELECT * FROM course_data_table WHERE num_reviews > 500 ORDER BY avg_rating DESC LIMIT 5;\n",
    "#\"\"\"\n",
    "\n",
    "sql_query = \"\"\"\n",
    "SELECT * FROM course_data_table WHERE (cleaned_description LIKE '% java %') and (num_reviews > 500) ORDER BY avg_rating DESC LIMIT 5;\n",
    "\"\"\"\n",
    "\n",
    "course_data_from_sql = pd.read_sql_query(sql_query,con)\n",
    "\n",
    "course_data_from_sql"
   ]
  },
  {
   "cell_type": "code",
   "execution_count": null,
   "metadata": {
    "collapsed": true
   },
   "outputs": [],
   "source": []
  }
 ],
 "metadata": {
  "anaconda-cloud": {},
  "kernelspec": {
   "display_name": "Python [default]",
   "language": "python",
   "name": "python2"
  },
  "language_info": {
   "codemirror_mode": {
    "name": "ipython",
    "version": 2
   },
   "file_extension": ".py",
   "mimetype": "text/x-python",
   "name": "python",
   "nbconvert_exporter": "python",
   "pygments_lexer": "ipython2",
   "version": "2.7.12"
  }
 },
 "nbformat": 4,
 "nbformat_minor": 1
}
