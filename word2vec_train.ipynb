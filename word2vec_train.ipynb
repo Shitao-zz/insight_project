{
 "cells": [
  {
   "cell_type": "code",
   "execution_count": 2,
   "metadata": {
    "collapsed": false
   },
   "outputs": [],
   "source": [
    "import pandas as pd\n",
    "from nltk.corpus import stopwords\n",
    "from nltk.stem import WordNetLemmatizer\n",
    "\n",
    "SF = pd.read_csv('./data/SF_jobs.csv')\n",
    "SF.drop('Unnamed: 0',axis=1,inplace=True)\n",
    "NYC = pd.read_csv('./data/NYC_jobs.csv')\n",
    "NYC.drop('Unnamed: 0',axis=1,inplace=True)\n",
    "Seattle = pd.read_csv('./data/Seattle_jobs.csv')\n",
    "Seattle.drop('Unnamed: 0',axis=1,inplace=True)"
   ]
  },
  {
   "cell_type": "code",
   "execution_count": 3,
   "metadata": {
    "collapsed": false
   },
   "outputs": [],
   "source": [
    "#Functions for data cleaning\n",
    "wnl = WordNetLemmatizer()\n",
    "\n",
    "def text_cleaner(text):\n",
    "    \n",
    "    text = text.lower().split()\n",
    "    text = [wnl.lemmatize(myWord) for myWord in text] # Lemmertization\n",
    "\n",
    "    stop_words = set(stopwords.words(\"english\")) # Filter out any stop words\n",
    "    text = [w for w in text if not w in stop_words]\n",
    "    \n",
    "    return text # return list of tokens"
   ]
  },
  {
   "cell_type": "code",
   "execution_count": 4,
   "metadata": {
    "collapsed": true
   },
   "outputs": [],
   "source": [
    "cleanDescription = []\n",
    "for i in range(SF.shape[0]):\n",
    "    cleanDescription.append(text_cleaner(SF.job_description[i]))\n",
    "for i in range(NYC.shape[0]):\n",
    "    cleanDescription.append(text_cleaner(NYC.job_description[i]))\n",
    "for i in range(Seattle.shape[0]):\n",
    "    cleanDescription.append(text_cleaner(Seattle.job_description[i]))"
   ]
  },
  {
   "cell_type": "code",
   "execution_count": 5,
   "metadata": {
    "collapsed": false
   },
   "outputs": [
    {
     "data": {
      "text/plain": [
       "1000"
      ]
     },
     "execution_count": 5,
     "metadata": {},
     "output_type": "execute_result"
    }
   ],
   "source": [
    "len(cleanDescription[:1000])"
   ]
  },
  {
   "cell_type": "code",
   "execution_count": 6,
   "metadata": {
    "collapsed": false
   },
   "outputs": [],
   "source": [
    "import gensim\n",
    "from multiprocessing import cpu_count\n",
    "model = gensim.models.Word2Vec(cleanDescription, size=100, window=10, min_count=5, workers=cpu_count())\n",
    "#pickle.dump(model,open('model_SF.p','wb'))"
   ]
  },
  {
   "cell_type": "code",
   "execution_count": 18,
   "metadata": {
    "collapsed": false
   },
   "outputs": [
    {
     "data": {
      "text/plain": [
       "[('ssis', 0.7868591547012329),\n",
       " (u'ssa', 0.7447274923324585),\n",
       " ('stored', 0.7414170503616333),\n",
       " ('query', 0.7165009379386902),\n",
       " ('database.', 0.7126107215881348),\n",
       " ('ssrs', 0.7113146781921387),\n",
       " ('sql.', 0.7072132229804993),\n",
       " (u'trigger', 0.680098295211792),\n",
       " ('dbms', 0.672260582447052),\n",
       " ('relational', 0.6579943895339966)]"
      ]
     },
     "execution_count": 18,
     "metadata": {},
     "output_type": "execute_result"
    }
   ],
   "source": [
    "model.most_similar('sql')"
   ]
  },
  {
   "cell_type": "code",
   "execution_count": 24,
   "metadata": {
    "collapsed": false
   },
   "outputs": [
    {
     "data": {
      "text/plain": [
       "[('san', 0.9431451559066772),\n",
       " ('manhattan', 0.9004846811294556),\n",
       " ('nyc', 0.890902042388916),\n",
       " ('ca.', 0.8894233703613281),\n",
       " ('seattle', 0.8811628818511963),\n",
       " ('francisco.', 0.8714390993118286),\n",
       " ('located', 0.8693442940711975),\n",
       " ('downtown', 0.8655446767807007),\n",
       " ('midtown', 0.8534793853759766),\n",
       " ('park', 0.8529324531555176)]"
      ]
     },
     "execution_count": 24,
     "metadata": {},
     "output_type": "execute_result"
    }
   ],
   "source": [
    "model.most_similar('francisco')"
   ]
  },
  {
   "cell_type": "code",
   "execution_count": null,
   "metadata": {
    "collapsed": true
   },
   "outputs": [],
   "source": [
    "model.most_similar('java')"
   ]
  }
 ],
 "metadata": {
  "anaconda-cloud": {},
  "kernelspec": {
   "display_name": "Python [default]",
   "language": "python",
   "name": "python2"
  },
  "language_info": {
   "codemirror_mode": {
    "name": "ipython",
    "version": 2
   },
   "file_extension": ".py",
   "mimetype": "text/x-python",
   "name": "python",
   "nbconvert_exporter": "python",
   "pygments_lexer": "ipython2",
   "version": "2.7.12"
  }
 },
 "nbformat": 4,
 "nbformat_minor": 1
}
